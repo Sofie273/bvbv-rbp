{
 "cells": [
  {
   "cell_type": "code",
   "execution_count": 2,
   "metadata": {},
   "outputs": [
    {
     "name": "stdout",
     "output_type": "stream",
     "text": [
      "tensorflow version: 2.16.2\n",
      "keras version:  3.4.1\n"
     ]
    }
   ],
   "source": [
    "# imports and set seed so results are random, but stil reproducable\n",
    "import tensorflow as tf\n",
    "import keras\n",
    "from sklearn.preprocessing import OneHotEncoder\n",
    "import random\n",
    "import os  # Helps you manage files and folders\n",
    "import sys\n",
    "import cv2  # Working with images\n",
    "import numpy as np\n",
    "import seaborn as sns  # Helps you visualize your discoveries\n",
    "import matplotlib.pyplot as plt  # To plot images\n",
    "import datetime\n",
    "\n",
    "\n",
    "print(\"tensorflow version: \"+ tf.__version__)\n",
    "print(\"keras version: \", keras.__version__)\n",
    "\n",
    "def set_seed(seed=0):\n",
    "  np.random.seed(seed)\n",
    "  tf.random.set_seed(seed)\n",
    "  random.seed(seed)\n",
    "  os.environ['TF_DETERMINISTIC_OPS'] = \"1\"\n",
    "  os.environ['TF_CUDNN_DETERMINISM'] = \"1\"\n",
    "  os.environ['PYTHONHASHSEED'] = str(seed)\n",
    "  keras.utils.set_random_seed(seed)\n",
    "\n",
    "set_seed()"
   ]
  },
  {
   "cell_type": "markdown",
   "metadata": {},
   "source": [
    "### 1. Import Model"
   ]
  },
  {
   "cell_type": "code",
   "execution_count": 5,
   "metadata": {},
   "outputs": [],
   "source": [
    "chckpnt = os.listdir(\"checkpoints\")[0]\n",
    "\n",
    "model = keras.saving.load_model(f\"checkpoints/{chckpnt}\")"
   ]
  },
  {
   "cell_type": "markdown",
   "metadata": {},
   "source": [
    "### 2. Load Test Image"
   ]
  },
  {
   "cell_type": "code",
   "execution_count": 10,
   "metadata": {},
   "outputs": [
    {
     "data": {
      "text/plain": [
       "(32, 32, 3)"
      ]
     },
     "execution_count": 10,
     "metadata": {},
     "output_type": "execute_result"
    }
   ],
   "source": [
    "\"\"\"\n",
    "most_recent_file = None\n",
    "most_recent_time = 0\n",
    "# iterate over the files in the directory using os.scandir\n",
    "for entry in os.scandir(\"beispiele\"):\n",
    "    if entry.is_file():\n",
    "        # get the modification time of the file using entry.stat().st_mtime_ns\n",
    "        mod_time = entry.stat().st_mtime_ns\n",
    "        if mod_time > most_recent_time:\n",
    "            # update the most recent file and its modification time\n",
    "            most_recent_file = entry.name\n",
    "            most_recent_time = mod_time\n",
    "\"\"\"\n",
    "\n",
    "img = cv2.imread(f\"beispiele/cup/GPIO25_2024-07-13-21-15-26.524018.jpg\")\n",
    "\n",
    "img = cv2.resize(img, (32, 32))\n",
    "img.shape\n"
   ]
  },
  {
   "cell_type": "code",
   "execution_count": 11,
   "metadata": {},
   "outputs": [
    {
     "data": {
      "text/plain": [
       "<matplotlib.image.AxesImage at 0x183003c0b80>"
      ]
     },
     "execution_count": 11,
     "metadata": {},
     "output_type": "execute_result"
    },
    {
     "data": {
      "image/png": "[encoded data removed]",
      "text/plain": [
       "<Figure size 640x480 with 1 Axes>"
      ]
     },
     "metadata": {},
     "output_type": "display_data"
    }
   ],
   "source": [
    "fig, ax = plt.subplots()\n",
    "\n",
    "ax.imshow(img)"
   ]
  },
  {
   "cell_type": "markdown",
   "metadata": {},
   "source": [
    "### 3. Predict Picture"
   ]
  },
  {
   "cell_type": "code",
   "execution_count": null,
   "metadata": {},
   "outputs": [
    {
     "name": "stdout",
     "output_type": "stream",
     "text": [
      "\u001b[1m1/1\u001b[0m \u001b[32m━━━━━━━━━━━━━━━━━━━━\u001b[0m\u001b[37m\u001b[0m \u001b[1m0s\u001b[0m 57ms/step\n",
      "[[0.39933556 0.2224968  0.37816766]]\n",
      "Predicted: 0 with confidence 0.3993355631828308\n",
      "I am not confident\n"
     ]
    }
   ],
   "source": [
    "confidences = model.predict(img.reshape(1, 32, 32, 3))\n",
    "\n",
    "pred = np.argmax(confidences)\n",
    "\n",
    "print(confidences)\n",
    "\n",
    "print(f\"Predicted: {pred} with confidence {confidences[0][pred]}\")\n",
    "\n",
    "if confidences[0][pred] > 0.5:\n",
    "    print(\"I am confident\")\n",
    "else:\n",
    "    print(\"I am not confident\")"
   ]
  },
  {
   "cell_type": "code",
   "execution_count": null,
   "metadata": {},
   "outputs": [],
   "source": []
  }
 ],
 "metadata": {
  "kernelspec": {
   "display_name": "base",
   "language": "python",
   "name": "python3"
  },
  "language_info": {
   "codemirror_mode": {
    "name": "ipython",
    "version": 3
   },
   "file_extension": ".py",
   "mimetype": "text/x-python",
   "name": "python",
   "nbconvert_exporter": "python",
   "pygments_lexer": "ipython3",
   "version": "3.9.19"
  }
 },
 "nbformat": 4,
 "nbformat_minor": 2
}
